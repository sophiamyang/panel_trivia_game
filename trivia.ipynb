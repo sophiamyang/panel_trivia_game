{
 "cells": [
  {
   "cell_type": "code",
   "execution_count": null,
   "id": "31e2b6e2",
   "metadata": {},
   "outputs": [],
   "source": [
    "import panel as pn\n",
    "import requests\n",
    "import pandas as pd\n",
    "pn.extension()"
   ]
  },
  {
   "cell_type": "code",
   "execution_count": null,
   "id": "6ceb6812",
   "metadata": {},
   "outputs": [],
   "source": [
    "def get_data(num_questions, difficulty, category):\n",
    "    url = f\"https://opentdb.com/api.php?amount={num_questions}&category={category_match[category]}&difficulty={difficulty}&type=boolean\"\n",
    "    df = pd.DataFrame(\n",
    "        requests.get(url).json()['results']\n",
    "    )\n",
    "    return df "
   ]
  },
  {
   "cell_type": "code",
   "execution_count": null,
   "id": "12f0b0ef",
   "metadata": {},
   "outputs": [],
   "source": [
    "category = pn.widgets.Select(\n",
    "    name='Category',\n",
    "    options=[\n",
    "        'General Knowledge',\n",
    "        'Film',\n",
    "        'Music',\n",
    "        'Video Games',\n",
    "        'Science & Nature',\n",
    "        'Computers',\n",
    "        'Geography',\n",
    "        'History',\n",
    "        'Politics',\n",
    "        'Animals',\n",
    "        'Japanese Anime & Manga'\n",
    "    ], \n",
    "    value='General Knowledge'\n",
    ")\n",
    "category"
   ]
  },
  {
   "cell_type": "code",
   "execution_count": null,
   "id": "fd49575e",
   "metadata": {},
   "outputs": [],
   "source": [
    " category_match = {\n",
    "    'General Knowledge': 9,\n",
    "    'Books': 10,\n",
    "    'Film': 11,\n",
    "    'Music': 12,\n",
    "    'Musicals & Theatres': 13,\n",
    "    'Television': 14,\n",
    "    'Video Games': 15,\n",
    "    'Board Games': 16,\n",
    "    'Science & Nature': 17,\n",
    "    'Computers': 18,\n",
    "    'Mathematics': 19,\n",
    "    'Mythology': 20,\n",
    "    'Sports': 21,\n",
    "    'Geography': 22,\n",
    "    'History': 23,\n",
    "    'Politics': 24,\n",
    "    'Art': 25,\n",
    "    'Celebrities': 26,\n",
    "    'Animals': 27,\n",
    "    'Vehicles': 28,\n",
    "    'Comics': 29,\n",
    "    'Gadgets': 30,\n",
    "    'Japanese Anime & Manga': 31,\n",
    "    'Cartoon & Animations': 32\n",
    " }"
   ]
  },
  {
   "cell_type": "code",
   "execution_count": null,
   "id": "1e403091",
   "metadata": {},
   "outputs": [],
   "source": [
    "difficulty = pn.widgets.Select(\n",
    "    name='Difficulty',\n",
    "    options=['easy', 'medium', 'hard'], \n",
    "    value='easy'\n",
    ")\n",
    "difficulty"
   ]
  },
  {
   "cell_type": "code",
   "execution_count": null,
   "id": "0e2133cc",
   "metadata": {},
   "outputs": [],
   "source": [
    "num_questions = pn.widgets.DiscreteSlider(\n",
    "    name='Number of Questions', \n",
    "    options=[5, 10, 15, 20], value=5\n",
    ")\n",
    "num_questions\n"
   ]
  },
  {
   "cell_type": "code",
   "execution_count": null,
   "id": "4b0b1c74",
   "metadata": {},
   "outputs": [],
   "source": [
    "def question_list(i, df):\n",
    "\n",
    "    button_true = pn.widgets.Button(name='True')\n",
    "    button_false = pn.widgets.Button(name='False')\n",
    " \n",
    "    text = pn.widgets.StaticText(value='')\n",
    "\n",
    "    def processing_button_true(event):\n",
    "        if df.correct_answer[i] == 'True': \n",
    "            text.value = 'Correct!'\n",
    "        else:\n",
    "            text.value = 'Incorrect!'\n",
    "\n",
    "    def processing_button_false(event):\n",
    "        if df.correct_answer[i] == 'False': \n",
    "            text.value = 'Correct!'\n",
    "        else:\n",
    "            text.value = 'Incorrect!'\n",
    "\n",
    "    button_true.on_click(processing_button_true)\n",
    "    button_false.on_click(processing_button_false)\n",
    "    return pn.Column(\n",
    "        pn.pane.Markdown(f\"\"\"\n",
    "        &nbsp;\n",
    "        #Question {i+1}:\n",
    "        ### {df.question[i]}\n",
    "        \"\"\"),\n",
    "\n",
    "        pn.Row(button_true,button_false), \n",
    "        text)"
   ]
  },
  {
   "cell_type": "code",
   "execution_count": null,
   "id": "959b8132",
   "metadata": {},
   "outputs": [],
   "source": [
    "def get_data_and_questions(num_questions, difficulty, category):\n",
    "    df = get_data(num_questions, difficulty, category)\n",
    "    question_pane = [question_list(i, df) for i in range(len(df))]\n",
    "    trivia_pane = pn.Column(*question_pane)\n",
    "    return trivia_pane "
   ]
  },
  {
   "cell_type": "code",
   "execution_count": null,
   "id": "6883f48b",
   "metadata": {},
   "outputs": [],
   "source": [
    "interactive = pn.bind(get_data_and_questions, num_questions, difficulty, category)"
   ]
  },
  {
   "cell_type": "code",
   "execution_count": null,
   "id": "89a466e9",
   "metadata": {},
   "outputs": [],
   "source": [
    "# Layout using Template\n",
    "template = pn.template.FastListTemplate(\n",
    "    title='Trivia Game', \n",
    "    sidebar=[num_questions, difficulty, category],\n",
    "    main=[interactive],\n",
    "    accent_base_color=\"#88d8b0\",\n",
    "    header_background=\"#88d8b0\",\n",
    ")\n",
    "template.servable()"
   ]
  },
  {
   "cell_type": "code",
   "execution_count": null,
   "id": "db1b6914",
   "metadata": {},
   "outputs": [],
   "source": []
  }
 ],
 "metadata": {
  "kernelspec": {
   "display_name": "Python 3 (ipykernel)",
   "language": "python",
   "name": "python3"
  },
  "language_info": {
   "codemirror_mode": {
    "name": "ipython",
    "version": 3
   },
   "file_extension": ".py",
   "mimetype": "text/x-python",
   "name": "python",
   "nbconvert_exporter": "python",
   "pygments_lexer": "ipython3",
   "version": "3.9.6"
  }
 },
 "nbformat": 4,
 "nbformat_minor": 5
}
